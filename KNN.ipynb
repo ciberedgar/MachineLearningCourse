{
  "cells": [
    {
      "cell_type": "markdown",
      "metadata": {
        "id": "view-in-github",
        "colab_type": "text"
      },
      "source": [
        "<a href=\"https://colab.research.google.com/github/ciberedgar/MachineLearningCourse/blob/main/KNN.ipynb\" target=\"_parent\"><img src=\"https://colab.research.google.com/assets/colab-badge.svg\" alt=\"Open In Colab\"/></a>"
      ]
    },
    {
      "cell_type": "markdown",
      "source": [
        "# Introducción / Introduction\n",
        "Practica 1 de la clase de Aprendizaje Automatico\n",
        "En esta practica se creo un algoritmo de KNN desde 0 incluyendo el manejo de datos de un set de imagenes las cuales contienen distintos tipos de cancer abdominal, el objetivo es que el algoritmo pueda clasificar correctamente almenos 3 tipos de cancer.\n",
        "\n",
        "Practice 1 of the Machine learning course.                                       \n",
        "In this practice a KNN algorithm was created from scratch. Data mining knowledge was required to get a set of images wich contain different types of abdominal cancer, the objective of this pratice was to make the KNN algorithm classify correctly at least 3 types of abdominal cancer"
      ],
      "metadata": {
        "id": "ukxEx6FpCU0n"
      }
    },
    {
      "cell_type": "markdown",
      "source": [
        "# Manejo de datos / Data management"
      ],
      "metadata": {
        "id": "OLiRAd-DhvX7"
      }
    },
    {
      "cell_type": "markdown",
      "source": [
        "## Datos / Data\n",
        "En esta parte del notebook tenemos los folders de donde tomaremos nuestras 3 clases, dentro de esas 3 clases anteriormente en otro notebook se crearon 3 archivos con un feature por cada uno de los archivos dentro de la clase.\n",
        "Una vez teniendo los archivos se fueron insertando los datos de cada uno con su respectiva clase dentro de un DataFrame, teniendo un total de 300 datos, 100 por cada clase.\n",
        "\n",
        "In this step we have the folders where we will be taking our 3 clases (esophagitis, retroflex-stomach, ulcerative-colitis), inside of each class folder, 3 files with different features from each image of the class were created. Once we have all the files ready they were added to a DataFrame, having a total of 300 data, 100 for each class."
      ],
      "metadata": {
        "id": "S6lZSVmSh00l"
      }
    },
    {
      "cell_type": "code",
      "execution_count": null,
      "metadata": {
        "colab": {
          "base_uri": "https://localhost:8080/",
          "height": 424
        },
        "id": "P9asll5v6KpG",
        "outputId": "c08bbb87-6184-461e-df01-f11545408b03"
      },
      "outputs": [
        {
          "output_type": "execute_result",
          "data": {
            "text/plain": [
              "       0    1    2    3    4    5    6    7    8    9  ...  159  160  161  \\\n",
              "0    3.5  2.0  1.0  5.5  3.5  5.0  0.5  0.0  0.0  0.0  ...  0.0  0.0  0.0   \n",
              "1    3.0  2.0  2.0  6.0  3.0  5.5  0.5  0.0  0.5  0.0  ...  0.0  0.0  0.0   \n",
              "2    2.0  4.0  3.0  5.5  1.5  5.5  0.5  0.5  2.5  0.0  ...  0.0  0.0  0.0   \n",
              "3    2.5  2.0  1.5  6.0  2.5  4.0  0.0  0.0  0.5  0.0  ...  0.0  0.0  0.0   \n",
              "4    4.0  1.5  1.5  6.5  3.0  5.5  0.5  0.0  0.5  0.0  ...  0.0  0.0  0.0   \n",
              "..   ...  ...  ...  ...  ...  ...  ...  ...  ...  ...  ...  ...  ...  ...   \n",
              "295  0.5  1.0  2.0  0.0  0.0  0.0  3.5  5.5  4.0  0.0  ...  0.0  0.0  0.0   \n",
              "296  2.0  0.0  4.5  0.0  0.0  0.0  1.0  5.5  6.0  0.5  ...  0.0  0.0  0.0   \n",
              "297  0.0  0.0  3.0  1.5  5.0  3.5  1.0  4.5  2.0  0.0  ...  0.0  0.0  0.0   \n",
              "298  0.5  0.0  2.0  0.0  0.5  0.0  3.0  6.0  1.5  0.0  ...  0.0  0.0  0.0   \n",
              "299  0.0  0.0  2.0  0.0  0.0  0.0  2.5  5.5  5.5  0.0  ...  0.0  0.0  0.0   \n",
              "\n",
              "     162  163  164  165  166  167               Class  \n",
              "0    0.0  0.0  0.0  0.0  0.0  0.0         esophagitis  \n",
              "1    0.0  0.0  0.0  0.0  0.0  0.0         esophagitis  \n",
              "2    0.0  0.0  0.0  0.0  0.0  0.0         esophagitis  \n",
              "3    0.0  0.0  0.0  0.0  0.0  0.0         esophagitis  \n",
              "4    0.0  0.0  0.0  0.0  0.0  0.0         esophagitis  \n",
              "..   ...  ...  ...  ...  ...  ...                 ...  \n",
              "295  0.0  0.0  0.0  0.0  0.0  0.0  ulcerative-colitis  \n",
              "296  0.0  0.0  0.0  0.0  0.0  0.0  ulcerative-colitis  \n",
              "297  0.0  0.0  0.0  0.0  0.0  0.0  ulcerative-colitis  \n",
              "298  0.0  0.0  0.0  0.0  0.0  0.0  ulcerative-colitis  \n",
              "299  0.0  0.0  0.0  0.0  0.0  0.0  ulcerative-colitis  \n",
              "\n",
              "[300 rows x 169 columns]"
            ],
            "text/html": [
              "\n",
              "  <div id=\"df-a84df37f-4590-4475-b550-089d29776b24\">\n",
              "    <div class=\"colab-df-container\">\n",
              "      <div>\n",
              "<style scoped>\n",
              "    .dataframe tbody tr th:only-of-type {\n",
              "        vertical-align: middle;\n",
              "    }\n",
              "\n",
              "    .dataframe tbody tr th {\n",
              "        vertical-align: top;\n",
              "    }\n",
              "\n",
              "    .dataframe thead th {\n",
              "        text-align: right;\n",
              "    }\n",
              "</style>\n",
              "<table border=\"1\" class=\"dataframe\">\n",
              "  <thead>\n",
              "    <tr style=\"text-align: right;\">\n",
              "      <th></th>\n",
              "      <th>0</th>\n",
              "      <th>1</th>\n",
              "      <th>2</th>\n",
              "      <th>3</th>\n",
              "      <th>4</th>\n",
              "      <th>5</th>\n",
              "      <th>6</th>\n",
              "      <th>7</th>\n",
              "      <th>8</th>\n",
              "      <th>9</th>\n",
              "      <th>...</th>\n",
              "      <th>159</th>\n",
              "      <th>160</th>\n",
              "      <th>161</th>\n",
              "      <th>162</th>\n",
              "      <th>163</th>\n",
              "      <th>164</th>\n",
              "      <th>165</th>\n",
              "      <th>166</th>\n",
              "      <th>167</th>\n",
              "      <th>Class</th>\n",
              "    </tr>\n",
              "  </thead>\n",
              "  <tbody>\n",
              "    <tr>\n",
              "      <th>0</th>\n",
              "      <td>3.5</td>\n",
              "      <td>2.0</td>\n",
              "      <td>1.0</td>\n",
              "      <td>5.5</td>\n",
              "      <td>3.5</td>\n",
              "      <td>5.0</td>\n",
              "      <td>0.5</td>\n",
              "      <td>0.0</td>\n",
              "      <td>0.0</td>\n",
              "      <td>0.0</td>\n",
              "      <td>...</td>\n",
              "      <td>0.0</td>\n",
              "      <td>0.0</td>\n",
              "      <td>0.0</td>\n",
              "      <td>0.0</td>\n",
              "      <td>0.0</td>\n",
              "      <td>0.0</td>\n",
              "      <td>0.0</td>\n",
              "      <td>0.0</td>\n",
              "      <td>0.0</td>\n",
              "      <td>esophagitis</td>\n",
              "    </tr>\n",
              "    <tr>\n",
              "      <th>1</th>\n",
              "      <td>3.0</td>\n",
              "      <td>2.0</td>\n",
              "      <td>2.0</td>\n",
              "      <td>6.0</td>\n",
              "      <td>3.0</td>\n",
              "      <td>5.5</td>\n",
              "      <td>0.5</td>\n",
              "      <td>0.0</td>\n",
              "      <td>0.5</td>\n",
              "      <td>0.0</td>\n",
              "      <td>...</td>\n",
              "      <td>0.0</td>\n",
              "      <td>0.0</td>\n",
              "      <td>0.0</td>\n",
              "      <td>0.0</td>\n",
              "      <td>0.0</td>\n",
              "      <td>0.0</td>\n",
              "      <td>0.0</td>\n",
              "      <td>0.0</td>\n",
              "      <td>0.0</td>\n",
              "      <td>esophagitis</td>\n",
              "    </tr>\n",
              "    <tr>\n",
              "      <th>2</th>\n",
              "      <td>2.0</td>\n",
              "      <td>4.0</td>\n",
              "      <td>3.0</td>\n",
              "      <td>5.5</td>\n",
              "      <td>1.5</td>\n",
              "      <td>5.5</td>\n",
              "      <td>0.5</td>\n",
              "      <td>0.5</td>\n",
              "      <td>2.5</td>\n",
              "      <td>0.0</td>\n",
              "      <td>...</td>\n",
              "      <td>0.0</td>\n",
              "      <td>0.0</td>\n",
              "      <td>0.0</td>\n",
              "      <td>0.0</td>\n",
              "      <td>0.0</td>\n",
              "      <td>0.0</td>\n",
              "      <td>0.0</td>\n",
              "      <td>0.0</td>\n",
              "      <td>0.0</td>\n",
              "      <td>esophagitis</td>\n",
              "    </tr>\n",
              "    <tr>\n",
              "      <th>3</th>\n",
              "      <td>2.5</td>\n",
              "      <td>2.0</td>\n",
              "      <td>1.5</td>\n",
              "      <td>6.0</td>\n",
              "      <td>2.5</td>\n",
              "      <td>4.0</td>\n",
              "      <td>0.0</td>\n",
              "      <td>0.0</td>\n",
              "      <td>0.5</td>\n",
              "      <td>0.0</td>\n",
              "      <td>...</td>\n",
              "      <td>0.0</td>\n",
              "      <td>0.0</td>\n",
              "      <td>0.0</td>\n",
              "      <td>0.0</td>\n",
              "      <td>0.0</td>\n",
              "      <td>0.0</td>\n",
              "      <td>0.0</td>\n",
              "      <td>0.0</td>\n",
              "      <td>0.0</td>\n",
              "      <td>esophagitis</td>\n",
              "    </tr>\n",
              "    <tr>\n",
              "      <th>4</th>\n",
              "      <td>4.0</td>\n",
              "      <td>1.5</td>\n",
              "      <td>1.5</td>\n",
              "      <td>6.5</td>\n",
              "      <td>3.0</td>\n",
              "      <td>5.5</td>\n",
              "      <td>0.5</td>\n",
              "      <td>0.0</td>\n",
              "      <td>0.5</td>\n",
              "      <td>0.0</td>\n",
              "      <td>...</td>\n",
              "      <td>0.0</td>\n",
              "      <td>0.0</td>\n",
              "      <td>0.0</td>\n",
              "      <td>0.0</td>\n",
              "      <td>0.0</td>\n",
              "      <td>0.0</td>\n",
              "      <td>0.0</td>\n",
              "      <td>0.0</td>\n",
              "      <td>0.0</td>\n",
              "      <td>esophagitis</td>\n",
              "    </tr>\n",
              "    <tr>\n",
              "      <th>...</th>\n",
              "      <td>...</td>\n",
              "      <td>...</td>\n",
              "      <td>...</td>\n",
              "      <td>...</td>\n",
              "      <td>...</td>\n",
              "      <td>...</td>\n",
              "      <td>...</td>\n",
              "      <td>...</td>\n",
              "      <td>...</td>\n",
              "      <td>...</td>\n",
              "      <td>...</td>\n",
              "      <td>...</td>\n",
              "      <td>...</td>\n",
              "      <td>...</td>\n",
              "      <td>...</td>\n",
              "      <td>...</td>\n",
              "      <td>...</td>\n",
              "      <td>...</td>\n",
              "      <td>...</td>\n",
              "      <td>...</td>\n",
              "      <td>...</td>\n",
              "    </tr>\n",
              "    <tr>\n",
              "      <th>295</th>\n",
              "      <td>0.5</td>\n",
              "      <td>1.0</td>\n",
              "      <td>2.0</td>\n",
              "      <td>0.0</td>\n",
              "      <td>0.0</td>\n",
              "      <td>0.0</td>\n",
              "      <td>3.5</td>\n",
              "      <td>5.5</td>\n",
              "      <td>4.0</td>\n",
              "      <td>0.0</td>\n",
              "      <td>...</td>\n",
              "      <td>0.0</td>\n",
              "      <td>0.0</td>\n",
              "      <td>0.0</td>\n",
              "      <td>0.0</td>\n",
              "      <td>0.0</td>\n",
              "      <td>0.0</td>\n",
              "      <td>0.0</td>\n",
              "      <td>0.0</td>\n",
              "      <td>0.0</td>\n",
              "      <td>ulcerative-colitis</td>\n",
              "    </tr>\n",
              "    <tr>\n",
              "      <th>296</th>\n",
              "      <td>2.0</td>\n",
              "      <td>0.0</td>\n",
              "      <td>4.5</td>\n",
              "      <td>0.0</td>\n",
              "      <td>0.0</td>\n",
              "      <td>0.0</td>\n",
              "      <td>1.0</td>\n",
              "      <td>5.5</td>\n",
              "      <td>6.0</td>\n",
              "      <td>0.5</td>\n",
              "      <td>...</td>\n",
              "      <td>0.0</td>\n",
              "      <td>0.0</td>\n",
              "      <td>0.0</td>\n",
              "      <td>0.0</td>\n",
              "      <td>0.0</td>\n",
              "      <td>0.0</td>\n",
              "      <td>0.0</td>\n",
              "      <td>0.0</td>\n",
              "      <td>0.0</td>\n",
              "      <td>ulcerative-colitis</td>\n",
              "    </tr>\n",
              "    <tr>\n",
              "      <th>297</th>\n",
              "      <td>0.0</td>\n",
              "      <td>0.0</td>\n",
              "      <td>3.0</td>\n",
              "      <td>1.5</td>\n",
              "      <td>5.0</td>\n",
              "      <td>3.5</td>\n",
              "      <td>1.0</td>\n",
              "      <td>4.5</td>\n",
              "      <td>2.0</td>\n",
              "      <td>0.0</td>\n",
              "      <td>...</td>\n",
              "      <td>0.0</td>\n",
              "      <td>0.0</td>\n",
              "      <td>0.0</td>\n",
              "      <td>0.0</td>\n",
              "      <td>0.0</td>\n",
              "      <td>0.0</td>\n",
              "      <td>0.0</td>\n",
              "      <td>0.0</td>\n",
              "      <td>0.0</td>\n",
              "      <td>ulcerative-colitis</td>\n",
              "    </tr>\n",
              "    <tr>\n",
              "      <th>298</th>\n",
              "      <td>0.5</td>\n",
              "      <td>0.0</td>\n",
              "      <td>2.0</td>\n",
              "      <td>0.0</td>\n",
              "      <td>0.5</td>\n",
              "      <td>0.0</td>\n",
              "      <td>3.0</td>\n",
              "      <td>6.0</td>\n",
              "      <td>1.5</td>\n",
              "      <td>0.0</td>\n",
              "      <td>...</td>\n",
              "      <td>0.0</td>\n",
              "      <td>0.0</td>\n",
              "      <td>0.0</td>\n",
              "      <td>0.0</td>\n",
              "      <td>0.0</td>\n",
              "      <td>0.0</td>\n",
              "      <td>0.0</td>\n",
              "      <td>0.0</td>\n",
              "      <td>0.0</td>\n",
              "      <td>ulcerative-colitis</td>\n",
              "    </tr>\n",
              "    <tr>\n",
              "      <th>299</th>\n",
              "      <td>0.0</td>\n",
              "      <td>0.0</td>\n",
              "      <td>2.0</td>\n",
              "      <td>0.0</td>\n",
              "      <td>0.0</td>\n",
              "      <td>0.0</td>\n",
              "      <td>2.5</td>\n",
              "      <td>5.5</td>\n",
              "      <td>5.5</td>\n",
              "      <td>0.0</td>\n",
              "      <td>...</td>\n",
              "      <td>0.0</td>\n",
              "      <td>0.0</td>\n",
              "      <td>0.0</td>\n",
              "      <td>0.0</td>\n",
              "      <td>0.0</td>\n",
              "      <td>0.0</td>\n",
              "      <td>0.0</td>\n",
              "      <td>0.0</td>\n",
              "      <td>0.0</td>\n",
              "      <td>ulcerative-colitis</td>\n",
              "    </tr>\n",
              "  </tbody>\n",
              "</table>\n",
              "<p>300 rows × 169 columns</p>\n",
              "</div>\n",
              "      <button class=\"colab-df-convert\" onclick=\"convertToInteractive('df-a84df37f-4590-4475-b550-089d29776b24')\"\n",
              "              title=\"Convert this dataframe to an interactive table.\"\n",
              "              style=\"display:none;\">\n",
              "        \n",
              "  <svg xmlns=\"http://www.w3.org/2000/svg\" height=\"24px\"viewBox=\"0 0 24 24\"\n",
              "       width=\"24px\">\n",
              "    <path d=\"M0 0h24v24H0V0z\" fill=\"none\"/>\n",
              "    <path d=\"M18.56 5.44l.94 2.06.94-2.06 2.06-.94-2.06-.94-.94-2.06-.94 2.06-2.06.94zm-11 1L8.5 8.5l.94-2.06 2.06-.94-2.06-.94L8.5 2.5l-.94 2.06-2.06.94zm10 10l.94 2.06.94-2.06 2.06-.94-2.06-.94-.94-2.06-.94 2.06-2.06.94z\"/><path d=\"M17.41 7.96l-1.37-1.37c-.4-.4-.92-.59-1.43-.59-.52 0-1.04.2-1.43.59L10.3 9.45l-7.72 7.72c-.78.78-.78 2.05 0 2.83L4 21.41c.39.39.9.59 1.41.59.51 0 1.02-.2 1.41-.59l7.78-7.78 2.81-2.81c.8-.78.8-2.07 0-2.86zM5.41 20L4 18.59l7.72-7.72 1.47 1.35L5.41 20z\"/>\n",
              "  </svg>\n",
              "      </button>\n",
              "      \n",
              "  <style>\n",
              "    .colab-df-container {\n",
              "      display:flex;\n",
              "      flex-wrap:wrap;\n",
              "      gap: 12px;\n",
              "    }\n",
              "\n",
              "    .colab-df-convert {\n",
              "      background-color: #E8F0FE;\n",
              "      border: none;\n",
              "      border-radius: 50%;\n",
              "      cursor: pointer;\n",
              "      display: none;\n",
              "      fill: #1967D2;\n",
              "      height: 32px;\n",
              "      padding: 0 0 0 0;\n",
              "      width: 32px;\n",
              "    }\n",
              "\n",
              "    .colab-df-convert:hover {\n",
              "      background-color: #E2EBFA;\n",
              "      box-shadow: 0px 1px 2px rgba(60, 64, 67, 0.3), 0px 1px 3px 1px rgba(60, 64, 67, 0.15);\n",
              "      fill: #174EA6;\n",
              "    }\n",
              "\n",
              "    [theme=dark] .colab-df-convert {\n",
              "      background-color: #3B4455;\n",
              "      fill: #D2E3FC;\n",
              "    }\n",
              "\n",
              "    [theme=dark] .colab-df-convert:hover {\n",
              "      background-color: #434B5C;\n",
              "      box-shadow: 0px 1px 3px 1px rgba(0, 0, 0, 0.15);\n",
              "      filter: drop-shadow(0px 1px 2px rgba(0, 0, 0, 0.3));\n",
              "      fill: #FFFFFF;\n",
              "    }\n",
              "  </style>\n",
              "\n",
              "      <script>\n",
              "        const buttonEl =\n",
              "          document.querySelector('#df-a84df37f-4590-4475-b550-089d29776b24 button.colab-df-convert');\n",
              "        buttonEl.style.display =\n",
              "          google.colab.kernel.accessAllowed ? 'block' : 'none';\n",
              "\n",
              "        async function convertToInteractive(key) {\n",
              "          const element = document.querySelector('#df-a84df37f-4590-4475-b550-089d29776b24');\n",
              "          const dataTable =\n",
              "            await google.colab.kernel.invokeFunction('convertToInteractive',\n",
              "                                                     [key], {});\n",
              "          if (!dataTable) return;\n",
              "\n",
              "          const docLinkHtml = 'Like what you see? Visit the ' +\n",
              "            '<a target=\"_blank\" href=https://colab.research.google.com/notebooks/data_table.ipynb>data table notebook</a>'\n",
              "            + ' to learn more about interactive tables.';\n",
              "          element.innerHTML = '';\n",
              "          dataTable['output_type'] = 'display_data';\n",
              "          await google.colab.output.renderOutput(dataTable, element);\n",
              "          const docLink = document.createElement('div');\n",
              "          docLink.innerHTML = docLinkHtml;\n",
              "          element.appendChild(docLink);\n",
              "        }\n",
              "      </script>\n",
              "    </div>\n",
              "  </div>\n",
              "  "
            ]
          },
          "metadata": {},
          "execution_count": 19
        }
      ],
      "source": [
        "import os\n",
        "import sys\n",
        "import pandas as pd\n",
        "import numpy as np\n",
        "import matplotlib.pyplot as plt\n",
        "i = 0\n",
        "df = pd.DataFrame()\n",
        "df.insert(0, column='Class', value=[])\n",
        "# np.loadtxt('data/esophagitis/1_JCD.txt', delimiter=',')\n",
        "folders = ['esophagitis', 'retroflex-stomach', 'ulcerative-colitis']\n",
        "for folder in folders:\n",
        "    ClassName = folder\n",
        "    folder = os.path.join('data/', folder)\n",
        "    for file in os.listdir(folder):\n",
        "        if file.endswith(\"JCD.txt\"):\n",
        "            # folder = os.path.join(folder, file)\n",
        "            x = pd.read_csv(folder+'/'+file, delimiter=',' , header=None) #For some reason, pandas is rounding the values\n",
        "            df = df.append(x, ignore_index=True)\n",
        "            df.loc[i, 'Class'] = ClassName\n",
        "            i += 1\n",
        "            # print(os.path.join(folder, file))\n",
        "\n",
        "df"
      ]
    },
    {
      "cell_type": "markdown",
      "source": [
        "## Enumeracion de las clases / Data enumaration\n",
        "En esta parte separamos nuestra x y Y en los datos y le damos un valor numerico a nuestras clases para que puedan ser procesadas correctamente\n",
        "\n",
        "In this part the data were separeted in x and Y, and the labels were given a numerical value instead of a nominal value."
      ],
      "metadata": {
        "id": "32Tgixj9lm5W"
      }
    },
    {
      "cell_type": "code",
      "execution_count": null,
      "metadata": {
        "colab": {
          "base_uri": "https://localhost:8080/"
        },
        "id": "sUond5746KpL",
        "outputId": "a710f4ab-8e52-4d17-d2e3-0b7024de6d7e"
      },
      "outputs": [
        {
          "output_type": "stream",
          "name": "stdout",
          "text": [
            "(1, 168)\n",
            "(300,)\n",
            "[0 0 0 0 0 0 0 0 0 0 0 0 0 0 0 0 0 0 0 0 0 0 0 0 0 0 0 0 0 0 0 0 0 0 0 0 0\n",
            " 0 0 0 0 0 0 0 0 0 0 0 0 0 0 0 0 0 0 0 0 0 0 0 0 0 0 0 0 0 0 0 0 0 0 0 0 0\n",
            " 0 0 0 0 0 0 0 0 0 0 0 0 0 0 0 0 0 0 0 0 0 0 0 0 0 0 1 1 1 1 1 1 1 1 1 1 1\n",
            " 1 1 1 1 1 1 1 1 1 1 1 1 1 1 1 1 1 1 1 1 1 1 1 1 1 1 1 1 1 1 1 1 1 1 1 1 1\n",
            " 1 1 1 1 1 1 1 1 1 1 1 1 1 1 1 1 1 1 1 1 1 1 1 1 1 1 1 1 1 1 1 1 1 1 1 1 1\n",
            " 1 1 1 1 1 1 1 1 1 1 1 1 1 1 1 2 2 2 2 2 2 2 2 2 2 2 2 2 2 2 2 2 2 2 2 2 2\n",
            " 2 2 2 2 2 2 2 2 2 2 2 2 2 2 2 2 2 2 2 2 2 2 2 2 2 2 2 2 2 2 2 2 2 2 2 2 2\n",
            " 2 2 2 2 2 2 2 2 2 2 2 2 2 2 2 2 2 2 2 2 2 2 2 2 2 2 2 2 2 2 2 2 2 2 2 2 2\n",
            " 2 2 2 2]\n"
          ]
        }
      ],
      "source": [
        "X = df.iloc[:, :-1].values\n",
        "print(x.shape)\n",
        "y = df.iloc[:, 168].values\n",
        "print(y.shape)\n",
        "labels, unique = pd.factorize(y)\n",
        "print(labels)"
      ]
    },
    {
      "cell_type": "markdown",
      "source": [
        "## Particion de datos / Data partition\n",
        "Se utilizo la libreria de sci-kit learn para dividir nuestro set de datos en entrenamiento y pruebas aleatoriamente, teniendo 225 datos para entrenamiento y 75 para pruebas\n",
        "\n",
        "The sci-kit learn library was used to divide our data set into traing and test sets randomly, having a 225 training set and a 75 test set."
      ],
      "metadata": {
        "id": "GfJ3U7EXl8nF"
      }
    },
    {
      "cell_type": "code",
      "execution_count": null,
      "metadata": {
        "colab": {
          "base_uri": "https://localhost:8080/"
        },
        "id": "NZRMsn0k6KpM",
        "outputId": "b9f65886-b4d1-455d-a9c8-4b31facadabe"
      },
      "outputs": [
        {
          "output_type": "stream",
          "name": "stdout",
          "text": [
            "(225, 168)\n",
            "(75, 168)\n",
            "[0 2 1 0 0 1 0 2 1 0 0 2 2 1 1 0 1 2 0 0 1 2 2 2 2 1 1 2 1 0 0 1 2 1 0 1 2\n",
            " 2 1 0 2 1 1 0 2 0 1 0 2 1 2 0 2 1 2 1 1 2 2 1 0 2 1 2 2 2 1 1 0 2 2 1 1 0\n",
            " 0 0 1 0 1 0 2 0 2 1 1 0 2 2 0 2 2 2 1 2 1 0 1 2 2 1 0 2 1 2 1 0 2 0 1 1 2\n",
            " 0 1 2 2 1 0 1 2 2 1 0 0 2 0 2 0 1 0 2 0 1 2 0 1 1 0 2 1 0 0 0 2 2 2 1 1 2\n",
            " 0 1 1 0 2 0 2 1 0 0 2 1 0 0 1 2 0 0 0 0 2 0 2 2 1 2 2 1 0 0 2 1 2 0 0 0 1\n",
            " 1 1 0 2 1 1 1 0 0 0 1 2 2 2 0 2 2 1 0 0 0 0 2 0 1 1 0 2 0 2 2 1 1 2 0 1 1\n",
            " 2 2 2]\n",
            "[1 0 0 2 1 1 1 0 1 1 1 2 0 0 2 1 0 2 1 2 0 2 0 1 0 0 0 1 0 2 2 0 0 1 0 2 1\n",
            " 0 1 1 1 2 1 2 0 1 1 1 2 2 0 1 0 0 2 1 0 2 2 0 1 1 0 2 2 0 0 0 2 1 1 1 2 2\n",
            " 1]\n"
          ]
        }
      ],
      "source": [
        "from sklearn.model_selection import train_test_split\n",
        "X_train, X_test, y_train, y_test = train_test_split(X, labels, test_size = 0.25)\n",
        "print(X_train.shape)\n",
        "print(X_test.shape)\n",
        "print(y_train)\n",
        "print(y_test)"
      ]
    },
    {
      "cell_type": "markdown",
      "source": [
        "# K-NEAREST NEIGHBORS\n"
      ],
      "metadata": {
        "id": "sCAutGkimvLW"
      }
    },
    {
      "cell_type": "markdown",
      "source": [
        "## Funcion de precisión / Accuracy function\n",
        "Se crea una funcion que nos dara el porcentaje de precisión utilizando nuestro output de la predicción comparado con nuestro set de prueba para ver que tan bien predijo las clases.\n",
        "\n",
        "An accuracy function was created to get the accuracy of our KNN algorithm to see how great it classified our data."
      ],
      "metadata": {
        "id": "Gcyb-6vjm6Hy"
      }
    },
    {
      "cell_type": "code",
      "execution_count": null,
      "metadata": {
        "id": "iGbeJNAd6KpN"
      },
      "outputs": [],
      "source": [
        "def accuracy(pred , y_test):\n",
        "    count = 0\n",
        "    for i in range(len(pred)):\n",
        "        if pred[i] == y_test[i]:\n",
        "            count +=1\n",
        "            \n",
        "    return print(\"Accuracy =\", (count/len(pred))*100, \"%\")"
      ]
    },
    {
      "cell_type": "markdown",
      "source": [
        "##KNN y distancia euclidiana / KNN and eucledian distance\n",
        "\n",
        "En esta parte se define la funcion para obtener la distancia euclidiana entre dos vectores (p1,p2) el cual nos regresa la distancia.\n",
        "\n",
        "Despues definimos la funcion de KNN la cual hace un loop por cada dato que sera clasificado. Durante ese proceso se almacenan las distancias entre cada uno de nuestros datos de entrenamiento con el punto a clasificar, finalmente se guardan las k distancias mas cercanas con sus respectivas clases y se obtiene cual de esas clases son las mas cercanas para asi darle su clase al punto a clasificar.\n",
        "\n",
        "In this part we defined the function to get the eucledian distance between to vectors (p1,p2) wich gives us back the distance value.\n",
        "Then the KNN function was defined to classify the data."
      ],
      "metadata": {
        "id": "HkpDLQvznrIp"
      }
    },
    {
      "cell_type": "code",
      "execution_count": null,
      "metadata": {
        "id": "5UXdSOkA6KpN"
      },
      "outputs": [],
      "source": [
        "from scipy.stats import mode\n",
        " \n",
        "#Euclidean Distance\n",
        "def eucledian(p1,p2):\n",
        "    dist = np.sqrt(np.sum((p1-p2)**2))\n",
        "    return dist\n",
        " \n",
        "#Function to calculate KNN\n",
        "def predict(x_train, y , x_input, k):\n",
        "    op_labels = []\n",
        "     \n",
        "    #Loop through the Datapoints to be classified\n",
        "    for item in x_input: \n",
        "         \n",
        "        #Array to store distances\n",
        "        data_dist = []\n",
        "         \n",
        "        #Loop through each training Data\n",
        "        for j in range(len(x_train)): \n",
        "            distances = eucledian(np.array(x_train[j,:]) , item) \n",
        "            #Calculating the distance\n",
        "            data_dist.append(distances) \n",
        "        data_dist = np.array(data_dist) \n",
        "         \n",
        "        #Sorting the array while preserving the index\n",
        "        #Keeping the first K datapoints\n",
        "        dist = np.argsort(data_dist)[:k] \n",
        "         \n",
        "        #Labels of the K datapoints from above\n",
        "        labels = y[dist]\n",
        "         \n",
        "        #Majority voting\n",
        "        lab = mode(labels) \n",
        "        lab = lab.mode[0]\n",
        "        op_labels.append(lab)\n",
        " \n",
        "    return op_labels"
      ]
    },
    {
      "cell_type": "markdown",
      "source": [
        "# RESULTADOS / RESULTS"
      ],
      "metadata": {
        "id": "c7T4s9AOppH0"
      }
    },
    {
      "cell_type": "markdown",
      "source": [
        "## Precisión / Accuracy\n",
        "Haciendo uso de la funcion de precisón creada anteriormente se utilizan los datos clasificados para compararlos con los de prueba para ver si fueron clasificados correctamente, el resultado final fue una precisión del 97.3333%\n",
        "\n",
        "Making use of the labeled data that the KNN algorithm classified the accuracy function showed an accuracy of 97.333333%"
      ],
      "metadata": {
        "id": "YVoMgns3p2e4"
      }
    },
    {
      "cell_type": "code",
      "execution_count": null,
      "metadata": {
        "id": "8pJpl7Bg6KpO"
      },
      "outputs": [],
      "source": [
        "X_train, X_test, y_train, y_test = train_test_split(X, labels, test_size = 0.25)"
      ]
    },
    {
      "cell_type": "code",
      "execution_count": null,
      "metadata": {
        "colab": {
          "base_uri": "https://localhost:8080/"
        },
        "id": "M3kLQEpX6KpP",
        "outputId": "57b9d80f-bae4-41ed-8ee7-5b77ca1cf63a"
      },
      "outputs": [
        {
          "output_type": "stream",
          "name": "stdout",
          "text": [
            "Accuracy = 97.33333333333334 %\n"
          ]
        }
      ],
      "source": [
        "y_pred = predict(X_train,y_train,X_test , 3)\n",
        "accuracy(y_pred, y_test)"
      ]
    }
  ],
  "metadata": {
    "kernelspec": {
      "display_name": "Python 3.7.5 64-bit",
      "language": "python",
      "name": "python3"
    },
    "language_info": {
      "codemirror_mode": {
        "name": "ipython",
        "version": 3
      },
      "file_extension": ".py",
      "mimetype": "text/x-python",
      "name": "python",
      "nbconvert_exporter": "python",
      "pygments_lexer": "ipython3",
      "version": "3.7.5"
    },
    "orig_nbformat": 4,
    "vscode": {
      "interpreter": {
        "hash": "3a901b1239a8ae2a78734601508e81f3a94bd20dd209d7db711713bf430fcf14"
      }
    },
    "colab": {
      "provenance": [],
      "toc_visible": true,
      "collapsed_sections": [],
      "include_colab_link": true
    }
  },
  "nbformat": 4,
  "nbformat_minor": 0
}